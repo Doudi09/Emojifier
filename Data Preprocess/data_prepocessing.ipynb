{
 "cells": [
  {
   "cell_type": "code",
   "execution_count": 2,
   "metadata": {
    "collapsed": true
   },
   "outputs": [],
   "source": [
    "import pandas as pd\n",
    "import os \n",
    "import re\n",
    "from nltk.stem.porter import PorterStemmer\n",
    "from nltk.corpus import stopwords\n",
    "\n",
    "stoplist = stopwords.words('english')\n",
    "\n",
    "data_path = os.getcwd().replace('\\\\', '/')+'/Data Preprocess/data/'\n",
    "\n",
    "df_train = pd.read_csv(data_path+'train_emoji.csv',\n",
    "                        header=None)\n",
    "df_test = pd.read_csv(data_path+'tesss.csv',\n",
    "                      header=None)\n"
   ]
  },
  {
   "cell_type": "code",
   "execution_count": 3,
   "metadata": {},
   "outputs": [
    {
     "name": "stdout",
     "output_type": "stream",
     "text": [
      "                                 0  1   2     3\n0           never talk to me again  3 NaN   NaN\n1  I am proud of your achievements  2 NaN   NaN\n2   It is the worst day in my life  3 NaN   NaN\n3                 Miss you so much  0 NaN   [0]\n4                     food is life  4 NaN   NaN\n<class 'pandas.core.frame.DataFrame'>\nRangeIndex: 132 entries, 0 to 131\nData columns (total 4 columns):\n #   Column  Non-Null Count  Dtype  \n---  ------  --------------  -----  \n 0   0       132 non-null    object \n 1   1       132 non-null    int64  \n 2   2       0 non-null      float64\n 3   3       12 non-null     object \ndtypes: float64(1), int64(1), object(2)\nmemory usage: 4.2+ KB\nNone\n"
     ]
    }
   ],
   "source": [
    "print(df_train.head())\n",
    "print(df_train.info())"
   ]
  },
  {
   "cell_type": "code",
   "execution_count": 4,
   "metadata": {},
   "outputs": [
    {
     "name": "stdout",
     "output_type": "stream",
     "text": [
      "                                 0  1\n0           never talk to me again  3\n1  I am proud of your achievements  2\n2   It is the worst day in my life  3\n3                 Miss you so much  0\n4                     food is life  4\n"
     ]
    }
   ],
   "source": [
    "# droping the empty columns :\n",
    "df_train.dropna(axis=1 ,inplace=True)\n",
    "print(df_train.head())"
   ]
  },
  {
   "cell_type": "code",
   "execution_count": 5,
   "metadata": {},
   "outputs": [
    {
     "name": "stdout",
     "output_type": "stream",
     "text": [
      "                             0  1\n0              I want to eat\\t  4\n1          he did not answer\\t  3\n2   he got a very nice raise\\t  2\n3  she got me a nice present\\t  2\n4   ha ha ha it was so funny\\t  2\n"
     ]
    }
   ],
   "source": [
    "df_test.dropna(axis=1, inplace=True)\n",
    "print(df_test.head())"
   ]
  },
  {
   "cell_type": "code",
   "execution_count": 6,
   "metadata": {},
   "outputs": [
    {
     "name": "stdout",
     "output_type": "stream",
     "text": [
      "Class distribution for training set :\n2    38\n3    36\n0    22\n1    19\n4    17\nName: 1, dtype: int64\n"
     ]
    }
   ],
   "source": [
    "print(\"Class distribution for training set :\")\n",
    "print(df_train[1].value_counts())"
   ]
  },
  {
   "cell_type": "code",
   "execution_count": 7,
   "metadata": {},
   "outputs": [
    {
     "name": "stdout",
     "output_type": "stream",
     "text": [
      "Class distribution for testing set :\n2    18\n3    16\n1     8\n0     7\n4     7\nName: 1, dtype: int64\n"
     ]
    }
   ],
   "source": [
    "print(\"Class distribution for testing set :\")\n",
    "print(df_test[1].value_counts())"
   ]
  },
  {
   "cell_type": "code",
   "execution_count": 8,
   "metadata": {},
   "outputs": [],
   "source": [
    "def preprocess(text, stopword=True, stemming=True):\n",
    "    # deleting ponctuation, extra spacing and numbers\n",
    "    text = re.sub(\"\\W+\", ' ', text)\n",
    "    text = re.sub(\"\\d+\", ' ', text)\n",
    "    text = re.sub(\"\\s+\", ' ', text)\n",
    "    \n",
    "    # tokenizing \n",
    "    tokens = text.split(' ')\n",
    "    # deleting stopwords:\n",
    "    if stopword:\n",
    "        tokens = [t for t in tokens if t not in stoplist]\n",
    "    # stemming :\n",
    "    if stemming:\n",
    "        tokens = [PorterStemmer().stem(t) for t in tokens]\n",
    "    return ' '.join(tokens)\n"
   ]
  },
  {
   "cell_type": "code",
   "execution_count": 9,
   "metadata": {},
   "outputs": [],
   "source": [
    "# saving the df after editing :\n",
    "\n",
    "df_train.to_csv(data_path+'train.csv', index=False)\n",
    "df_test.to_csv(data_path+'test.csv', index=False)\n"
   ]
  },
  {
   "cell_type": "code",
   "execution_count": 12,
   "metadata": {},
   "outputs": [
    {
     "name": "stdout",
     "output_type": "stream",
     "text": [
      "never talk to me again\n3\n"
     ]
    }
   ],
   "source": [
    "print(df_train[0][0])\n",
    "print(df_train[1][0])"
   ]
  },
  {
   "cell_type": "code",
   "execution_count": 20,
   "metadata": {
    "collapsed": false
   },
   "outputs": [],
   "source": [
    "\n",
    "\n",
    "emoji_dict = {\"0\": \":heart:\",    # :heart: prints a black instead of red heart depending on the font\n",
    "                    \"1\": \":baseball:\",\n",
    "                    \"2\": \":smile:\",\n",
    "                    \"3\": \":disappointed:\",\n",
    "                    \"4\": \":fork_and_knife:\"}\n",
    "\n"
   ]
  },
  {
   "cell_type": "code",
   "execution_count": null,
   "metadata": {},
   "outputs": [],
   "source": []
  }
 ],
 "metadata": {
  "kernelspec": {
   "display_name": "Python 2",
   "language": "python",
   "name": "python2"
  },
  "language_info": {
   "codemirror_mode": {
    "name": "ipython",
    "version": 2
   },
   "file_extension": ".py",
   "mimetype": "text/x-python",
   "name": "python",
   "nbconvert_exporter": "python",
   "pygments_lexer": "ipython2",
   "version": "2.7.6"
  }
 },
 "nbformat": 4,
 "nbformat_minor": 0
}
